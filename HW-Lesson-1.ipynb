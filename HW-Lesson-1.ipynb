{
 "cells": [
  {
   "cell_type": "code",
   "execution_count": 1,
   "metadata": {},
   "outputs": [],
   "source": [
    "import requests \n",
    "import json"
   ]
  },
  {
   "cell_type": "markdown",
   "metadata": {},
   "source": [
    "# Задание 1"
   ]
  },
  {
   "cell_type": "markdown",
   "metadata": {},
   "source": [
    "1. Посмотреть документацию к API GitHub, разобраться как вывести список репозиториев для конкретного пользователя, сохранить JSON-вывод в файле *.json."
   ]
  },
  {
   "cell_type": "code",
   "execution_count": 2,
   "metadata": {},
   "outputs": [
    {
     "data": {
      "text/plain": [
       "<Response [200]>"
      ]
     },
     "execution_count": 2,
     "metadata": {},
     "output_type": "execute_result"
    }
   ],
   "source": [
    "url = 'https://api.github.com/users/mirlan-irokez'\n",
    "repos_url = 'https://api.github.com/users/mirlan-irokez/repos'\n",
    "\n",
    "headers = {'User-agent': 'Mozilla/5.0 (Windows NT 10.0; Win64; x64)'}\n",
    "\n",
    "req = requests.get(repos_url, headers=headers)\n",
    "req"
   ]
  },
  {
   "cell_type": "code",
   "execution_count": 3,
   "metadata": {},
   "outputs": [
    {
     "data": {
      "text/plain": [
       "[{'id': 420963792,\n",
       "  'node_id': 'R_kgDOGRdl0A',\n",
       "  'name': 'data-collect',\n",
       "  'full_name': 'mirlan-irokez/data-collect',\n",
       "  'private': False,\n",
       "  'owner': {'login': 'mirlan-irokez',\n",
       "   'id': 5198789,\n",
       "   'node_id': 'MDQ6VXNlcjUxOTg3ODk=',\n",
       "   'avatar_url': 'https://avatars.githubusercontent.com/u/5198789?v=4',\n",
       "   'gravatar_id': '',\n",
       "   'url': 'https://api.github.com/users/mirlan-irokez',\n",
       "   'html_url': 'https://github.com/mirlan-irokez',\n",
       "   'followers_url': 'https://api.github.com/users/mirlan-irokez/followers',\n",
       "   'following_url': 'https://api.github.com/users/mirlan-irokez/following{/other_user}',\n",
       "   'gists_url': 'https://api.github.com/users/mirlan-irokez/gists{/gist_id}',\n",
       "   'starred_url': 'https://api.github.com/users/mirlan-irokez/starred{/owner}{/repo}',\n",
       "   'subscriptions_url': 'https://api.github.com/users/mirlan-irokez/subscriptions',\n",
       "   'organizations_url': 'https://api.github.com/users/mirlan-irokez/orgs',\n",
       "   'repos_url': 'https://api.github.com/users/mirlan-irokez/repos',\n",
       "   'events_url': 'https://api.github.com/users/mirlan-irokez/events{/privacy}',\n",
       "   'received_events_url': 'https://api.github.com/users/mirlan-irokez/received_events',\n",
       "   'type': 'User',\n",
       "   'site_admin': False},\n",
       "  'html_url': 'https://github.com/mirlan-irokez/data-collect',\n",
       "  'description': 'Курс: Методы сбора и обработки данных из сети Интернет',\n",
       "  'fork': False,\n",
       "  'url': 'https://api.github.com/repos/mirlan-irokez/data-collect',\n",
       "  'forks_url': 'https://api.github.com/repos/mirlan-irokez/data-collect/forks',\n",
       "  'keys_url': 'https://api.github.com/repos/mirlan-irokez/data-collect/keys{/key_id}',\n",
       "  'collaborators_url': 'https://api.github.com/repos/mirlan-irokez/data-collect/collaborators{/collaborator}',\n",
       "  'teams_url': 'https://api.github.com/repos/mirlan-irokez/data-collect/teams',\n",
       "  'hooks_url': 'https://api.github.com/repos/mirlan-irokez/data-collect/hooks',\n",
       "  'issue_events_url': 'https://api.github.com/repos/mirlan-irokez/data-collect/issues/events{/number}',\n",
       "  'events_url': 'https://api.github.com/repos/mirlan-irokez/data-collect/events',\n",
       "  'assignees_url': 'https://api.github.com/repos/mirlan-irokez/data-collect/assignees{/user}',\n",
       "  'branches_url': 'https://api.github.com/repos/mirlan-irokez/data-collect/branches{/branch}',\n",
       "  'tags_url': 'https://api.github.com/repos/mirlan-irokez/data-collect/tags',\n",
       "  'blobs_url': 'https://api.github.com/repos/mirlan-irokez/data-collect/git/blobs{/sha}',\n",
       "  'git_tags_url': 'https://api.github.com/repos/mirlan-irokez/data-collect/git/tags{/sha}',\n",
       "  'git_refs_url': 'https://api.github.com/repos/mirlan-irokez/data-collect/git/refs{/sha}',\n",
       "  'trees_url': 'https://api.github.com/repos/mirlan-irokez/data-collect/git/trees{/sha}',\n",
       "  'statuses_url': 'https://api.github.com/repos/mirlan-irokez/data-collect/statuses/{sha}',\n",
       "  'languages_url': 'https://api.github.com/repos/mirlan-irokez/data-collect/languages',\n",
       "  'stargazers_url': 'https://api.github.com/repos/mirlan-irokez/data-collect/stargazers',\n",
       "  'contributors_url': 'https://api.github.com/repos/mirlan-irokez/data-collect/contributors',\n",
       "  'subscribers_url': 'https://api.github.com/repos/mirlan-irokez/data-collect/subscribers',\n",
       "  'subscription_url': 'https://api.github.com/repos/mirlan-irokez/data-collect/subscription',\n",
       "  'commits_url': 'https://api.github.com/repos/mirlan-irokez/data-collect/commits{/sha}',\n",
       "  'git_commits_url': 'https://api.github.com/repos/mirlan-irokez/data-collect/git/commits{/sha}',\n",
       "  'comments_url': 'https://api.github.com/repos/mirlan-irokez/data-collect/comments{/number}',\n",
       "  'issue_comment_url': 'https://api.github.com/repos/mirlan-irokez/data-collect/issues/comments{/number}',\n",
       "  'contents_url': 'https://api.github.com/repos/mirlan-irokez/data-collect/contents/{+path}',\n",
       "  'compare_url': 'https://api.github.com/repos/mirlan-irokez/data-collect/compare/{base}...{head}',\n",
       "  'merges_url': 'https://api.github.com/repos/mirlan-irokez/data-collect/merges',\n",
       "  'archive_url': 'https://api.github.com/repos/mirlan-irokez/data-collect/{archive_format}{/ref}',\n",
       "  'downloads_url': 'https://api.github.com/repos/mirlan-irokez/data-collect/downloads',\n",
       "  'issues_url': 'https://api.github.com/repos/mirlan-irokez/data-collect/issues{/number}',\n",
       "  'pulls_url': 'https://api.github.com/repos/mirlan-irokez/data-collect/pulls{/number}',\n",
       "  'milestones_url': 'https://api.github.com/repos/mirlan-irokez/data-collect/milestones{/number}',\n",
       "  'notifications_url': 'https://api.github.com/repos/mirlan-irokez/data-collect/notifications{?since,all,participating}',\n",
       "  'labels_url': 'https://api.github.com/repos/mirlan-irokez/data-collect/labels{/name}',\n",
       "  'releases_url': 'https://api.github.com/repos/mirlan-irokez/data-collect/releases{/id}',\n",
       "  'deployments_url': 'https://api.github.com/repos/mirlan-irokez/data-collect/deployments',\n",
       "  'created_at': '2021-10-25T09:43:34Z',\n",
       "  'updated_at': '2021-10-25T09:43:38Z',\n",
       "  'pushed_at': '2021-10-25T09:43:35Z',\n",
       "  'git_url': 'git://github.com/mirlan-irokez/data-collect.git',\n",
       "  'ssh_url': 'git@github.com:mirlan-irokez/data-collect.git',\n",
       "  'clone_url': 'https://github.com/mirlan-irokez/data-collect.git',\n",
       "  'svn_url': 'https://github.com/mirlan-irokez/data-collect',\n",
       "  'homepage': None,\n",
       "  'size': 0,\n",
       "  'stargazers_count': 0,\n",
       "  'watchers_count': 0,\n",
       "  'language': None,\n",
       "  'has_issues': True,\n",
       "  'has_projects': True,\n",
       "  'has_downloads': True,\n",
       "  'has_wiki': True,\n",
       "  'has_pages': False,\n",
       "  'forks_count': 0,\n",
       "  'mirror_url': None,\n",
       "  'archived': False,\n",
       "  'disabled': False,\n",
       "  'open_issues_count': 0,\n",
       "  'license': None,\n",
       "  'allow_forking': True,\n",
       "  'is_template': False,\n",
       "  'topics': [],\n",
       "  'visibility': 'public',\n",
       "  'forks': 0,\n",
       "  'open_issues': 0,\n",
       "  'watchers': 0,\n",
       "  'default_branch': 'main'}]"
      ]
     },
     "execution_count": 3,
     "metadata": {},
     "output_type": "execute_result"
    }
   ],
   "source": [
    "mirlan_repos = json.loads(req.text)\n",
    "mirlan_repos"
   ]
  },
  {
   "cell_type": "code",
   "execution_count": 4,
   "metadata": {},
   "outputs": [],
   "source": [
    "# Сохранение в JSON файл\n",
    "\n",
    "with open('mirlan_repos_data.json', 'w') as f:\n",
    "    json.dump(mirlan_repos, f)"
   ]
  },
  {
   "cell_type": "code",
   "execution_count": 5,
   "metadata": {},
   "outputs": [
    {
     "data": {
      "text/plain": [
       "[{'id': 420963792,\n",
       "  'node_id': 'R_kgDOGRdl0A',\n",
       "  'name': 'data-collect',\n",
       "  'full_name': 'mirlan-irokez/data-collect',\n",
       "  'private': False,\n",
       "  'owner': {'login': 'mirlan-irokez',\n",
       "   'id': 5198789,\n",
       "   'node_id': 'MDQ6VXNlcjUxOTg3ODk=',\n",
       "   'avatar_url': 'https://avatars.githubusercontent.com/u/5198789?v=4',\n",
       "   'gravatar_id': '',\n",
       "   'url': 'https://api.github.com/users/mirlan-irokez',\n",
       "   'html_url': 'https://github.com/mirlan-irokez',\n",
       "   'followers_url': 'https://api.github.com/users/mirlan-irokez/followers',\n",
       "   'following_url': 'https://api.github.com/users/mirlan-irokez/following{/other_user}',\n",
       "   'gists_url': 'https://api.github.com/users/mirlan-irokez/gists{/gist_id}',\n",
       "   'starred_url': 'https://api.github.com/users/mirlan-irokez/starred{/owner}{/repo}',\n",
       "   'subscriptions_url': 'https://api.github.com/users/mirlan-irokez/subscriptions',\n",
       "   'organizations_url': 'https://api.github.com/users/mirlan-irokez/orgs',\n",
       "   'repos_url': 'https://api.github.com/users/mirlan-irokez/repos',\n",
       "   'events_url': 'https://api.github.com/users/mirlan-irokez/events{/privacy}',\n",
       "   'received_events_url': 'https://api.github.com/users/mirlan-irokez/received_events',\n",
       "   'type': 'User',\n",
       "   'site_admin': False},\n",
       "  'html_url': 'https://github.com/mirlan-irokez/data-collect',\n",
       "  'description': 'Курс: Методы сбора и обработки данных из сети Интернет',\n",
       "  'fork': False,\n",
       "  'url': 'https://api.github.com/repos/mirlan-irokez/data-collect',\n",
       "  'forks_url': 'https://api.github.com/repos/mirlan-irokez/data-collect/forks',\n",
       "  'keys_url': 'https://api.github.com/repos/mirlan-irokez/data-collect/keys{/key_id}',\n",
       "  'collaborators_url': 'https://api.github.com/repos/mirlan-irokez/data-collect/collaborators{/collaborator}',\n",
       "  'teams_url': 'https://api.github.com/repos/mirlan-irokez/data-collect/teams',\n",
       "  'hooks_url': 'https://api.github.com/repos/mirlan-irokez/data-collect/hooks',\n",
       "  'issue_events_url': 'https://api.github.com/repos/mirlan-irokez/data-collect/issues/events{/number}',\n",
       "  'events_url': 'https://api.github.com/repos/mirlan-irokez/data-collect/events',\n",
       "  'assignees_url': 'https://api.github.com/repos/mirlan-irokez/data-collect/assignees{/user}',\n",
       "  'branches_url': 'https://api.github.com/repos/mirlan-irokez/data-collect/branches{/branch}',\n",
       "  'tags_url': 'https://api.github.com/repos/mirlan-irokez/data-collect/tags',\n",
       "  'blobs_url': 'https://api.github.com/repos/mirlan-irokez/data-collect/git/blobs{/sha}',\n",
       "  'git_tags_url': 'https://api.github.com/repos/mirlan-irokez/data-collect/git/tags{/sha}',\n",
       "  'git_refs_url': 'https://api.github.com/repos/mirlan-irokez/data-collect/git/refs{/sha}',\n",
       "  'trees_url': 'https://api.github.com/repos/mirlan-irokez/data-collect/git/trees{/sha}',\n",
       "  'statuses_url': 'https://api.github.com/repos/mirlan-irokez/data-collect/statuses/{sha}',\n",
       "  'languages_url': 'https://api.github.com/repos/mirlan-irokez/data-collect/languages',\n",
       "  'stargazers_url': 'https://api.github.com/repos/mirlan-irokez/data-collect/stargazers',\n",
       "  'contributors_url': 'https://api.github.com/repos/mirlan-irokez/data-collect/contributors',\n",
       "  'subscribers_url': 'https://api.github.com/repos/mirlan-irokez/data-collect/subscribers',\n",
       "  'subscription_url': 'https://api.github.com/repos/mirlan-irokez/data-collect/subscription',\n",
       "  'commits_url': 'https://api.github.com/repos/mirlan-irokez/data-collect/commits{/sha}',\n",
       "  'git_commits_url': 'https://api.github.com/repos/mirlan-irokez/data-collect/git/commits{/sha}',\n",
       "  'comments_url': 'https://api.github.com/repos/mirlan-irokez/data-collect/comments{/number}',\n",
       "  'issue_comment_url': 'https://api.github.com/repos/mirlan-irokez/data-collect/issues/comments{/number}',\n",
       "  'contents_url': 'https://api.github.com/repos/mirlan-irokez/data-collect/contents/{+path}',\n",
       "  'compare_url': 'https://api.github.com/repos/mirlan-irokez/data-collect/compare/{base}...{head}',\n",
       "  'merges_url': 'https://api.github.com/repos/mirlan-irokez/data-collect/merges',\n",
       "  'archive_url': 'https://api.github.com/repos/mirlan-irokez/data-collect/{archive_format}{/ref}',\n",
       "  'downloads_url': 'https://api.github.com/repos/mirlan-irokez/data-collect/downloads',\n",
       "  'issues_url': 'https://api.github.com/repos/mirlan-irokez/data-collect/issues{/number}',\n",
       "  'pulls_url': 'https://api.github.com/repos/mirlan-irokez/data-collect/pulls{/number}',\n",
       "  'milestones_url': 'https://api.github.com/repos/mirlan-irokez/data-collect/milestones{/number}',\n",
       "  'notifications_url': 'https://api.github.com/repos/mirlan-irokez/data-collect/notifications{?since,all,participating}',\n",
       "  'labels_url': 'https://api.github.com/repos/mirlan-irokez/data-collect/labels{/name}',\n",
       "  'releases_url': 'https://api.github.com/repos/mirlan-irokez/data-collect/releases{/id}',\n",
       "  'deployments_url': 'https://api.github.com/repos/mirlan-irokez/data-collect/deployments',\n",
       "  'created_at': '2021-10-25T09:43:34Z',\n",
       "  'updated_at': '2021-10-25T09:43:38Z',\n",
       "  'pushed_at': '2021-10-25T09:43:35Z',\n",
       "  'git_url': 'git://github.com/mirlan-irokez/data-collect.git',\n",
       "  'ssh_url': 'git@github.com:mirlan-irokez/data-collect.git',\n",
       "  'clone_url': 'https://github.com/mirlan-irokez/data-collect.git',\n",
       "  'svn_url': 'https://github.com/mirlan-irokez/data-collect',\n",
       "  'homepage': None,\n",
       "  'size': 0,\n",
       "  'stargazers_count': 0,\n",
       "  'watchers_count': 0,\n",
       "  'language': None,\n",
       "  'has_issues': True,\n",
       "  'has_projects': True,\n",
       "  'has_downloads': True,\n",
       "  'has_wiki': True,\n",
       "  'has_pages': False,\n",
       "  'forks_count': 0,\n",
       "  'mirror_url': None,\n",
       "  'archived': False,\n",
       "  'disabled': False,\n",
       "  'open_issues_count': 0,\n",
       "  'license': None,\n",
       "  'allow_forking': True,\n",
       "  'is_template': False,\n",
       "  'topics': [],\n",
       "  'visibility': 'public',\n",
       "  'forks': 0,\n",
       "  'open_issues': 0,\n",
       "  'watchers': 0,\n",
       "  'default_branch': 'main'}]"
      ]
     },
     "execution_count": 5,
     "metadata": {},
     "output_type": "execute_result"
    }
   ],
   "source": [
    "# Проверка сохраненного файла\n",
    "\n",
    "with open('mirlan_repos_data.json') as json_file:\n",
    "    data = json.load(json_file)\n",
    "data"
   ]
  },
  {
   "cell_type": "code",
   "execution_count": null,
   "metadata": {},
   "outputs": [],
   "source": []
  },
  {
   "cell_type": "markdown",
   "metadata": {},
   "source": [
    "# Задание 2"
   ]
  },
  {
   "cell_type": "markdown",
   "metadata": {},
   "source": [
    "2. Изучить список открытых API (https://www.programmableweb.com/category/all/apis). Найти среди них любое, требующее авторизацию (любого типа). Выполнить запросы к нему, пройдя авторизацию. Ответ сервера записать в файл."
   ]
  },
  {
   "cell_type": "code",
   "execution_count": 6,
   "metadata": {},
   "outputs": [],
   "source": [
    "# Детали по биржевой акции компании NVIDIA\n",
    "# key: \n",
    "\n",
    "api_url = 'https://api.polygon.io/v1/meta/symbols/NVDA/company'"
   ]
  },
  {
   "cell_type": "code",
   "execution_count": 7,
   "metadata": {},
   "outputs": [
    {
     "data": {
      "text/plain": [
       "<Response [200]>"
      ]
     },
     "execution_count": 7,
     "metadata": {},
     "output_type": "execute_result"
    }
   ],
   "source": [
    "headers_api = {'User-agent': 'Mozilla/5.0 (Windows NT 10.0; Win64; x64)',\n",
    "                    'Authorization':'Bearer keyAPIkey'}\n",
    "\n",
    "req_api = requests.get(api_url, headers=headers_api)\n",
    "req_api"
   ]
  },
  {
   "cell_type": "code",
   "execution_count": 8,
   "metadata": {},
   "outputs": [
    {
     "data": {
      "text/plain": [
       "{'logo': 'https://s3.polygon.io/logos/nvda/logo.png',\n",
       " 'listdate': '1999-01-22',\n",
       " 'cik': '1045810',\n",
       " 'bloomberg': 'EQ0031365700001000',\n",
       " 'figi': None,\n",
       " 'lei': '549300S4KLFTLO7GSQ80',\n",
       " 'sic': 3674,\n",
       " 'country': 'usa',\n",
       " 'industry': 'Semiconductors',\n",
       " 'sector': 'Technology',\n",
       " 'marketcap': 123053120000,\n",
       " 'employees': 11528,\n",
       " 'phone': '+1 408 486-2000',\n",
       " 'ceo': 'Jen-Hsun Huang',\n",
       " 'url': 'http://www.nvidia.com',\n",
       " 'description': 'NVIDIA Corp is a developer of graphics processing unit. It caters to areas like gaming, professional visualization, datacenter and automobiles.',\n",
       " 'exchange': 'Nasdaq Global Select',\n",
       " 'name': 'NVIDIA Corporation',\n",
       " 'symbol': 'NVDA',\n",
       " 'exchangeSymbol': 'NGS',\n",
       " 'hq_address': '2788 San Tomas Expressway Santa Clara CA, 95051',\n",
       " 'hq_state': 'CA',\n",
       " 'hq_country': 'USA',\n",
       " 'type': 'CS',\n",
       " 'updated': '11/16/2018',\n",
       " 'tags': ['Technology', 'Semiconductors'],\n",
       " 'similar': ['INTC', 'MSFT', 'QCOM', 'STM', 'TXN', 'AMBA', 'AMD', 'XLK'],\n",
       " 'active': True}"
      ]
     },
     "execution_count": 8,
     "metadata": {},
     "output_type": "execute_result"
    }
   ],
   "source": [
    "mirlan_api = json.loads(req_api.text)\n",
    "mirlan_api"
   ]
  },
  {
   "cell_type": "code",
   "execution_count": 9,
   "metadata": {},
   "outputs": [],
   "source": [
    "# Сохранение в JSON файл\n",
    "\n",
    "with open('mirlan_api_data.json', 'w') as z:\n",
    "    json.dump(mirlan_api, z)"
   ]
  },
  {
   "cell_type": "code",
   "execution_count": 10,
   "metadata": {},
   "outputs": [
    {
     "data": {
      "text/plain": [
       "{'logo': 'https://s3.polygon.io/logos/nvda/logo.png',\n",
       " 'listdate': '1999-01-22',\n",
       " 'cik': '1045810',\n",
       " 'bloomberg': 'EQ0031365700001000',\n",
       " 'figi': None,\n",
       " 'lei': '549300S4KLFTLO7GSQ80',\n",
       " 'sic': 3674,\n",
       " 'country': 'usa',\n",
       " 'industry': 'Semiconductors',\n",
       " 'sector': 'Technology',\n",
       " 'marketcap': 123053120000,\n",
       " 'employees': 11528,\n",
       " 'phone': '+1 408 486-2000',\n",
       " 'ceo': 'Jen-Hsun Huang',\n",
       " 'url': 'http://www.nvidia.com',\n",
       " 'description': 'NVIDIA Corp is a developer of graphics processing unit. It caters to areas like gaming, professional visualization, datacenter and automobiles.',\n",
       " 'exchange': 'Nasdaq Global Select',\n",
       " 'name': 'NVIDIA Corporation',\n",
       " 'symbol': 'NVDA',\n",
       " 'exchangeSymbol': 'NGS',\n",
       " 'hq_address': '2788 San Tomas Expressway Santa Clara CA, 95051',\n",
       " 'hq_state': 'CA',\n",
       " 'hq_country': 'USA',\n",
       " 'type': 'CS',\n",
       " 'updated': '11/16/2018',\n",
       " 'tags': ['Technology', 'Semiconductors'],\n",
       " 'similar': ['INTC', 'MSFT', 'QCOM', 'STM', 'TXN', 'AMBA', 'AMD', 'XLK'],\n",
       " 'active': True}"
      ]
     },
     "execution_count": 10,
     "metadata": {},
     "output_type": "execute_result"
    }
   ],
   "source": [
    "# Проверка сохраненного файла\n",
    "\n",
    "with open('mirlan_api_data.json') as json_file_z:\n",
    "    data_api = json.load(json_file_z)\n",
    "data_api"
   ]
  },
  {
   "cell_type": "code",
   "execution_count": null,
   "metadata": {},
   "outputs": [],
   "source": []
  }
 ],
 "metadata": {
  "kernelspec": {
   "display_name": "Python 3",
   "language": "python",
   "name": "python3"
  },
  "language_info": {
   "codemirror_mode": {
    "name": "ipython",
    "version": 3
   },
   "file_extension": ".py",
   "mimetype": "text/x-python",
   "name": "python",
   "nbconvert_exporter": "python",
   "pygments_lexer": "ipython3",
   "version": "3.7.6"
  }
 },
 "nbformat": 4,
 "nbformat_minor": 4
}
