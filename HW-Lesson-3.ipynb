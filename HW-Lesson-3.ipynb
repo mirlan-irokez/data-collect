{
 "cells": [
  {
   "cell_type": "code",
   "execution_count": 7,
   "metadata": {},
   "outputs": [],
   "source": [
    "import requests \n",
    "import json\n",
    "from bs4 import BeautifulSoup as bs\n",
    "from pprint import pprint\n",
    "import pandas as pd\n",
    "from pymongo import MongoClient\n",
    "from pymongo.errors import DuplicateKeyError as dke\n",
    "from forex_python.converter import CurrencyRates\n",
    "\n",
    "pd.set_option('display.max_rows', None)"
   ]
  },
  {
   "cell_type": "markdown",
   "metadata": {},
   "source": [
    "# Задание 1"
   ]
  },
  {
   "cell_type": "markdown",
   "metadata": {},
   "source": [
    "1. Развернуть у себя на компьютере/виртуальной машине/хостинге MongoDB и реализовать функцию, которая будет добавлять только новые вакансии в вашу базу.\n"
   ]
  },
  {
   "cell_type": "code",
   "execution_count": 2,
   "metadata": {},
   "outputs": [
    {
     "data": {
      "text/plain": [
       "Collection(Database(MongoClient(host=['127.0.0.1:27017'], document_class=dict, tz_aware=False, connect=True), 'vac_database'), 'vacancies_hh')"
      ]
     },
     "execution_count": 2,
     "metadata": {},
     "output_type": "execute_result"
    }
   ],
   "source": [
    "# Mongo DB, создание коллекции\n",
    "\n",
    "client = MongoClient('127.0.0.1', 27017)\n",
    "db = client['vac_database']\n",
    "vac_collection = db.vacancies_hh\n",
    "vac_collection"
   ]
  },
  {
   "cell_type": "code",
   "execution_count": 3,
   "metadata": {},
   "outputs": [],
   "source": [
    "# Функция добавляет Вакансии в созданную коллекцию\n",
    "def insert_vacancies(collection, add_vacancy):\n",
    "    try:\n",
    "        collection.insert_one(add_vacancy)\n",
    "        print(f\"Добавление вакансии {add_vacancy['vacancy']}\")\n",
    "    except dke:\n",
    "        print(f\"Вакансия по ссылке {add_vacancy['_id']} уже существует в базе\")"
   ]
  },
  {
   "cell_type": "code",
   "execution_count": 4,
   "metadata": {},
   "outputs": [],
   "source": [
    "# Введите интересующую вакансию, регион и кол-во страниц\n",
    "vacancy_name = 'game analyst'\n",
    "vacancy_region = 1\n",
    "number_of_pages = 5"
   ]
  },
  {
   "cell_type": "code",
   "execution_count": 5,
   "metadata": {},
   "outputs": [
    {
     "name": "stdout",
     "output_type": "stream",
     "text": [
      "Вакансия по ссылке https://hh.ru/vacancy/48809730?from=vacancy_search_list&query=game%20analyst уже существует в базе\n",
      "Вакансия по ссылке https://hh.ru/vacancy/49220216?from=vacancy_search_list&query=game%20analyst уже существует в базе\n",
      "Вакансия по ссылке https://hh.ru/vacancy/48725827?from=vacancy_search_list&query=game%20analyst уже существует в базе\n",
      "Вакансия по ссылке https://hh.ru/vacancy/48357502?from=vacancy_search_list&query=game%20analyst уже существует в базе\n",
      "Вакансия по ссылке https://hh.ru/vacancy/47608292?from=vacancy_search_list&query=game%20analyst уже существует в базе\n",
      "Вакансия по ссылке https://hh.ru/vacancy/49209976?from=vacancy_search_list&query=game%20analyst уже существует в базе\n",
      "Вакансия по ссылке https://hh.ru/vacancy/49030653?from=vacancy_search_list&query=game%20analyst уже существует в базе\n",
      "Вакансия по ссылке https://hh.ru/vacancy/46256769?from=vacancy_search_list&query=game%20analyst уже существует в базе\n",
      "Вакансия по ссылке https://hh.ru/vacancy/48332891?from=vacancy_search_list&query=game%20analyst уже существует в базе\n",
      "Вакансия по ссылке https://hh.ru/vacancy/46987932?from=vacancy_search_list&query=game%20analyst уже существует в базе\n",
      "Вакансия по ссылке https://hh.ru/vacancy/49165867?from=vacancy_search_list&query=game%20analyst уже существует в базе\n",
      "Вакансия по ссылке https://hh.ru/vacancy/48931838?from=vacancy_search_list&query=game%20analyst уже существует в базе\n",
      "Вакансия по ссылке https://hh.ru/vacancy/46152193?from=vacancy_search_list&query=game%20analyst уже существует в базе\n",
      "Вакансия по ссылке https://hh.ru/vacancy/48757473?from=vacancy_search_list&query=game%20analyst уже существует в базе\n",
      "Вакансия по ссылке https://hh.ru/vacancy/38618946?from=vacancy_search_list&query=game%20analyst уже существует в базе\n",
      "Вакансия по ссылке https://hh.ru/vacancy/40422798?from=vacancy_search_list&query=game%20analyst уже существует в базе\n",
      "Вакансия по ссылке https://hh.ru/vacancy/48713079?from=vacancy_search_list&query=game%20analyst уже существует в базе\n",
      "Вакансия по ссылке https://hh.ru/vacancy/49161017?from=vacancy_search_list&query=game%20analyst уже существует в базе\n",
      "Вакансия по ссылке https://hh.ru/vacancy/48803091?from=vacancy_search_list&query=game%20analyst уже существует в базе\n",
      "Вакансия по ссылке https://hh.ru/vacancy/47598973?from=vacancy_search_list&query=game%20analyst уже существует в базе\n",
      "Обработана 0 страница\n",
      "Вакансия по ссылке https://hh.ru/vacancy/36958641?from=vacancy_search_list&query=game%20analyst уже существует в базе\n",
      "Вакансия по ссылке https://hh.ru/vacancy/47344667?from=vacancy_search_list&query=game%20analyst уже существует в базе\n",
      "Вакансия по ссылке https://hh.ru/vacancy/49216758?from=vacancy_search_list&query=game%20analyst уже существует в базе\n",
      "Вакансия по ссылке https://hh.ru/vacancy/49017026?from=vacancy_search_list&query=game%20analyst уже существует в базе\n",
      "Вакансия по ссылке https://hh.ru/vacancy/44845072?from=vacancy_search_list&query=game%20analyst уже существует в базе\n",
      "Вакансия по ссылке https://hh.ru/vacancy/47472801?from=vacancy_search_list&query=game%20analyst уже существует в базе\n",
      "Вакансия по ссылке https://hh.ru/vacancy/48579903?from=vacancy_search_list&query=game%20analyst уже существует в базе\n",
      "Вакансия по ссылке https://hh.ru/vacancy/49265007?from=vacancy_search_list&query=game%20analyst уже существует в базе\n",
      "Вакансия по ссылке https://hh.ru/vacancy/49349485?from=vacancy_search_list&query=game%20analyst уже существует в базе\n",
      "Вакансия по ссылке https://hh.ru/vacancy/48773171?from=vacancy_search_list&query=game%20analyst уже существует в базе\n",
      "Вакансия по ссылке https://hh.ru/vacancy/49353276?from=vacancy_search_list&query=game%20analyst уже существует в базе\n",
      "Вакансия по ссылке https://hh.ru/vacancy/43504375?from=vacancy_search_list&query=game%20analyst уже существует в базе\n",
      "Вакансия по ссылке https://hh.ru/vacancy/49260824?from=vacancy_search_list&query=game%20analyst уже существует в базе\n",
      "Вакансия по ссылке https://hh.ru/vacancy/41816310?from=vacancy_search_list&query=game%20analyst уже существует в базе\n",
      "Вакансия по ссылке https://hh.ru/vacancy/46667923?from=vacancy_search_list&query=game%20analyst уже существует в базе\n",
      "Вакансия по ссылке https://hh.ru/vacancy/49242856?from=vacancy_search_list&query=game%20analyst уже существует в базе\n",
      "Вакансия по ссылке https://hh.ru/vacancy/49218367?from=vacancy_search_list&query=game%20analyst уже существует в базе\n",
      "Вакансия по ссылке https://hh.ru/vacancy/49220578?from=vacancy_search_list&query=game%20analyst уже существует в базе\n",
      "Вакансия по ссылке https://hh.ru/vacancy/49208046?from=vacancy_search_list&query=game%20analyst уже существует в базе\n",
      "Вакансия по ссылке https://hh.ru/vacancy/46412827?from=vacancy_search_list&query=game%20analyst уже существует в базе\n",
      "Обработана 1 страница\n",
      "Вакансия по ссылке https://hh.ru/vacancy/49019666?from=vacancy_search_list&query=game%20analyst уже существует в базе\n",
      "Вакансия по ссылке https://hh.ru/vacancy/48183597?from=vacancy_search_list&query=game%20analyst уже существует в базе\n",
      "Вакансия по ссылке https://hh.ru/vacancy/49031680?from=vacancy_search_list&query=game%20analyst уже существует в базе\n",
      "Вакансия по ссылке https://hh.ru/vacancy/49008056?from=vacancy_search_list&query=game%20analyst уже существует в базе\n",
      "Вакансия по ссылке https://hh.ru/vacancy/49016834?from=vacancy_search_list&query=game%20analyst уже существует в базе\n",
      "Вакансия по ссылке https://hh.ru/vacancy/48981155?from=vacancy_search_list&query=game%20analyst уже существует в базе\n",
      "Вакансия по ссылке https://hh.ru/vacancy/47771679?from=vacancy_search_list&query=game%20analyst уже существует в базе\n",
      "Вакансия по ссылке https://hh.ru/vacancy/48998380?from=vacancy_search_list&query=game%20analyst уже существует в базе\n",
      "Вакансия по ссылке https://hh.ru/vacancy/48978323?from=vacancy_search_list&query=game%20analyst уже существует в базе\n",
      "Вакансия по ссылке https://hh.ru/vacancy/48998174?from=vacancy_search_list&query=game%20analyst уже существует в базе\n",
      "Вакансия по ссылке https://hh.ru/vacancy/48548010?from=vacancy_search_list&query=game%20analyst уже существует в базе\n",
      "Вакансия по ссылке https://hh.ru/vacancy/48944037?from=vacancy_search_list&query=game%20analyst уже существует в базе\n",
      "Вакансия по ссылке https://hh.ru/vacancy/48959728?from=vacancy_search_list&query=game%20analyst уже существует в базе\n",
      "Вакансия по ссылке https://hh.ru/vacancy/46198425?from=vacancy_search_list&query=game%20analyst уже существует в базе\n",
      "Вакансия по ссылке https://hh.ru/vacancy/48968467?from=vacancy_search_list&query=game%20analyst уже существует в базе\n",
      "Вакансия по ссылке https://hh.ru/vacancy/47856401?from=vacancy_search_list&query=game%20analyst уже существует в базе\n",
      "Вакансия по ссылке https://hh.ru/vacancy/48923510?from=vacancy_search_list&query=game%20analyst уже существует в базе\n",
      "Вакансия по ссылке https://hh.ru/vacancy/48975221?from=vacancy_search_list&query=game%20analyst уже существует в базе\n",
      "Вакансия по ссылке https://hh.ru/vacancy/48931594?from=vacancy_search_list&query=game%20analyst уже существует в базе\n",
      "Вакансия по ссылке https://hh.ru/vacancy/47221949?from=vacancy_search_list&query=game%20analyst уже существует в базе\n",
      "Обработана 2 страница\n",
      "Вакансия по ссылке https://hh.ru/vacancy/47769161?from=vacancy_search_list&query=game%20analyst уже существует в базе\n",
      "Вакансия по ссылке https://hh.ru/vacancy/48539633?from=vacancy_search_list&query=game%20analyst уже существует в базе\n",
      "Вакансия по ссылке https://hh.ru/vacancy/48702196?from=vacancy_search_list&query=game%20analyst уже существует в базе\n",
      "Вакансия по ссылке https://hh.ru/vacancy/48836741?from=vacancy_search_list&query=game%20analyst уже существует в базе\n",
      "Вакансия по ссылке https://hh.ru/vacancy/48409844?from=vacancy_search_list&query=game%20analyst уже существует в базе\n",
      "Вакансия по ссылке https://hh.ru/vacancy/48504555?from=vacancy_search_list&query=game%20analyst уже существует в базе\n",
      "Вакансия по ссылке https://hh.ru/vacancy/48495496?from=vacancy_search_list&query=game%20analyst уже существует в базе\n",
      "Вакансия по ссылке https://hh.ru/vacancy/47562088?from=vacancy_search_list&query=game%20analyst уже существует в базе\n",
      "Вакансия по ссылке https://hh.ru/vacancy/47519106?from=vacancy_search_list&query=game%20analyst уже существует в базе\n",
      "Вакансия по ссылке https://hh.ru/vacancy/47480953?from=vacancy_search_list&query=game%20analyst уже существует в базе\n",
      "Вакансия по ссылке https://hh.ru/vacancy/48341931?from=vacancy_search_list&query=game%20analyst уже существует в базе\n",
      "Вакансия по ссылке https://hh.ru/vacancy/48357973?from=vacancy_search_list&query=game%20analyst уже существует в базе\n",
      "Вакансия по ссылке https://hh.ru/vacancy/48412444?from=vacancy_search_list&query=game%20analyst уже существует в базе\n",
      "Вакансия по ссылке https://hh.ru/vacancy/47472010?from=vacancy_search_list&query=game%20analyst уже существует в базе\n",
      "Вакансия по ссылке https://hh.ru/vacancy/48348018?from=vacancy_search_list&query=game%20analyst уже существует в базе\n",
      "Вакансия по ссылке https://hh.ru/vacancy/47570972?from=vacancy_search_list&query=game%20analyst уже существует в базе\n",
      "Вакансия по ссылке https://hh.ru/vacancy/48348000?from=vacancy_search_list&query=game%20analyst уже существует в базе\n",
      "Обработана 3 страница\n"
     ]
    }
   ],
   "source": [
    "url = 'https://hh.ru'\n",
    "params = {'clusters': 'true',\n",
    "          'area': vacancy_region,\n",
    "          'ored_clusters': 'true',\n",
    "          'enable_snippets': 'true',\n",
    "          'salary': None,\n",
    "          'text': vacancy_name,\n",
    "          'page': 0}\n",
    "headers = {'User-Agent': 'Mozilla/5.0 (Windows NT 10.0; Win64; x64) AppleWebKit/537.36 (KHTML, like Gecko) Chrome/94.0.4606.81 Safari/537.36'}\n",
    "\n",
    "vacancies_list = []\n",
    "\n",
    "while params['page'] < number_of_pages:\n",
    "    response = requests.get(url + '/search/vacancy', params=params, headers=headers)\n",
    "    dom = bs(response.text, 'html.parser')\n",
    "    vacancies = dom.find_all('div', {'class': 'vacancy-serp-item'})\n",
    "\n",
    "    if response.ok and vacancies:\n",
    "        \n",
    "        for vacancy in vacancies:\n",
    "            vacancy_data = {}\n",
    "            info = vacancy.find('a', {'class': 'bloko-link'})\n",
    "            name = info.text\n",
    "            company = vacancy.find('div', {'class': 'vacancy-serp-item__meta-info-company'}).text\n",
    "            link = info['href']\n",
    "            site = url\n",
    "            \n",
    "            try:\n",
    "                salary = vacancy.find('div', {'class': 'vacancy-serp-item__sidebar'}).text\n",
    "                i = salary.split()\n",
    "                if 'от' in salary:\n",
    "                    min_salary = int(i[1] + i[2])\n",
    "                    max_salary = None\n",
    "                    fix_salary = None\n",
    "                    currency = i[3]\n",
    "                elif 'до' in salary:\n",
    "                    min_salary = None\n",
    "                    max_salary = int(i[1] + i[2])\n",
    "                    fix_salary = None\n",
    "                    currency = i[3]\n",
    "                elif ' - ' in salary:\n",
    "                    min_salary = int(i[0] + i[1])\n",
    "                    max_salary = int(i[3] + i[4])\n",
    "                    fix_salary = None\n",
    "                    currency = i[5]\n",
    "                else:\n",
    "                    min_salary = None\n",
    "                    max_salary = None\n",
    "                    fix_salary = int(i[0] + i[1])\n",
    "                    currency = i[2]\n",
    "            except:\n",
    "                #salary = None\n",
    "                min_salary = None\n",
    "                max_salary = None\n",
    "                fix_salary = None\n",
    "                currency = None\n",
    "            \n",
    "            # Ссылка на вакансию в качестве уникального id\n",
    "            vacancy_data['_id'] = link\n",
    "            vacancy_data['vacancy'] = name\n",
    "            vacancy_data['company'] = company\n",
    "            vacancy_data['link'] = link\n",
    "            vacancy_data['source'] = site\n",
    "            vacancy_data['min_salary'] = min_salary\n",
    "            vacancy_data['max_salary'] = max_salary\n",
    "            vacancy_data['fix_salary'] = fix_salary\n",
    "            vacancy_data['currency'] = currency\n",
    "            \n",
    "            vacancies_list.append(vacancy_data)\n",
    "            \n",
    "            # Добавления вакансии в базу\n",
    "            insert_vacancies(vac_collection, vacancy_data)\n",
    "            \n",
    "        print(f\"Обработана {params['page']} страница\")\n",
    "        params['page'] += 1\n",
    "    else:\n",
    "        break\n",
    "        \n",
    "#result = pd.DataFrame(vacancies_list)\n",
    "#pprint(vacancies_list)"
   ]
  },
  {
   "cell_type": "code",
   "execution_count": 6,
   "metadata": {},
   "outputs": [
    {
     "data": {
      "text/plain": [
       "array([None, 'руб.', '–', 'USD'], dtype=object)"
      ]
     },
     "execution_count": 6,
     "metadata": {},
     "output_type": "execute_result"
    }
   ],
   "source": [
    "result = pd.DataFrame(vacancies_list)\n",
    "result['currency'].unique()"
   ]
  },
  {
   "cell_type": "markdown",
   "metadata": {},
   "source": [
    "# Задание 2"
   ]
  },
  {
   "cell_type": "markdown",
   "metadata": {},
   "source": [
    "2. Написать функцию, которая производит поиск и выводит на экран вакансии с заработной платой больше введённой суммы (необходимо анализировать оба поля зарплаты). "
   ]
  },
  {
   "cell_type": "code",
   "execution_count": 25,
   "metadata": {},
   "outputs": [
    {
     "data": {
      "text/plain": [
       "71.71929673360337"
      ]
     },
     "execution_count": 25,
     "metadata": {},
     "output_type": "execute_result"
    }
   ],
   "source": [
    "#pip install forex-python\n",
    "# Библиотека для конвертации валюты\n",
    "# Пара USD к RUB\n",
    "\n",
    "c = CurrencyRates()\n",
    "c_usd_to_rub = c.get_rate('USD', 'RUB')\n",
    "c_usd_to_rub"
   ]
  },
  {
   "cell_type": "code",
   "execution_count": 26,
   "metadata": {},
   "outputs": [],
   "source": [
    "# Функция поиска вакансий с заработной платой выше введеной пользователем\n",
    "\n",
    "def search_gt_salary(collection):\n",
    "    count_num = 1\n",
    "    try:\n",
    "        user_salary_input = int(input(\"Введите сумму ЗП в USD: \"))\n",
    "        for i in collection.find({'currency': 'USD', \n",
    "                                  '$or': [{'max_salary':{'$gt':user_salary_input}},\n",
    "                                         {'min_salary':{'$gt':user_salary_input}},\n",
    "                                         {'fix_salary':{'$gt':user_salary_input}}]},\n",
    "                                {'_id':0}):\n",
    "            pprint(f'{count_num} {i}')\n",
    "            count_num += 1\n",
    "        for i in collection.find({'currency': 'руб.', \n",
    "                                  '$or': [{'max_salary':{'$gt':user_salary_input / c_usd_to_rub}},\n",
    "                                         {'min_salary':{'$gt':user_salary_input / c_usd_to_rub}},\n",
    "                                         {'fix_salary':{'$gt':user_salary_input / c_usd_to_rub}}]},\n",
    "                                {'_id':0}):\n",
    "            pprint(f'{count_num} {i}')\n",
    "            count_num += 1\n",
    "    except ValueError:\n",
    "        print('Сумма должна быть указано цифрой')"
   ]
  },
  {
   "cell_type": "code",
   "execution_count": 27,
   "metadata": {},
   "outputs": [
    {
     "name": "stdout",
     "output_type": "stream",
     "text": [
      "Введите сумму ЗП в USD: 1500\n",
      "(\"1 {'vacancy': 'Game Producer (Hyper Casual Games)', 'company': 'Храмцова \"\n",
      " \"Полина', 'link': \"\n",
      " \"'https://hh.ru/vacancy/48357502?from=vacancy_search_list&query=game%20analyst', \"\n",
      " \"'source': 'https://hh.ru', 'min_salary': 250000, 'max_salary': None, \"\n",
      " \"'fix_salary': None, 'currency': 'руб.'}\")\n",
      "(\"2 {'vacancy': 'Lead UA Manager (ведущий трафик-менеджер)', 'company': \"\n",
      " \"'Kometa.Games', 'link': \"\n",
      " \"'https://hh.ru/vacancy/49265007?from=vacancy_search_list&query=game%20analyst', \"\n",
      " \"'source': 'https://hh.ru', 'min_salary': None, 'max_salary': 280000, \"\n",
      " \"'fix_salary': None, 'currency': 'руб.'}\")\n",
      "(\"3 {'vacancy': 'Арбитражник / Трафик-менеджер ( Digital-marketing )', \"\n",
      " \"'company': 'ООО\\\\xa0Кадровое агентство Даподбор', 'link': \"\n",
      " \"'https://hh.ru/vacancy/48409844?from=vacancy_search_list&query=game%20analyst', \"\n",
      " \"'source': 'https://hh.ru', 'min_salary': 170000, 'max_salary': None, \"\n",
      " \"'fix_salary': None, 'currency': 'руб.'}\")\n"
     ]
    }
   ],
   "source": [
    "search_gt_salary(vac_collection)"
   ]
  },
  {
   "cell_type": "code",
   "execution_count": 9,
   "metadata": {},
   "outputs": [],
   "source": []
  }
 ],
 "metadata": {
  "kernelspec": {
   "display_name": "Python 3",
   "language": "python",
   "name": "python3"
  },
  "language_info": {
   "codemirror_mode": {
    "name": "ipython",
    "version": 3
   },
   "file_extension": ".py",
   "mimetype": "text/x-python",
   "name": "python",
   "nbconvert_exporter": "python",
   "pygments_lexer": "ipython3",
   "version": "3.7.6"
  }
 },
 "nbformat": 4,
 "nbformat_minor": 4
}
